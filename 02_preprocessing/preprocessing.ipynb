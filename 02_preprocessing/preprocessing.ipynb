{
 "cells": [
  {
   "attachments": {},
   "cell_type": "markdown",
   "metadata": {},
   "source": [
    "# Exercice - Nettoyage et pré-traitement de données\n",
    "\n",
    "Source des données : [Demandes de valeurs foncières (DVF) géolocalisées](https://www.data.gouv.fr/fr/datasets/demandes-de-valeurs-foncieres-geolocalisees/)"
   ]
  },
  {
   "attachments": {},
   "cell_type": "markdown",
   "metadata": {},
   "source": [
    "Importer les bibliothèques Python nécessaires, telles que `pandas` pour manipuler les données :"
   ]
  },
  {
   "cell_type": "code",
   "execution_count": null,
   "metadata": {},
   "outputs": [],
   "source": [
    "import pandas\n",
    "\n",
    "from pandas.plotting import scatter_matrix"
   ]
  },
  {
   "attachments": {},
   "cell_type": "markdown",
   "metadata": {},
   "source": [
    "Extraire le jeu de données CSV avec la fonction `pandas.read_csv` :"
   ]
  },
  {
   "cell_type": "code",
   "execution_count": null,
   "metadata": {},
   "outputs": [],
   "source": [
    "df = pandas.read_csv(\"https://files.data.gouv.fr/geo-dvf/latest/csv/2018/departements/38.csv.gz\")\n",
    "df"
   ]
  },
  {
   "attachments": {},
   "cell_type": "markdown",
   "metadata": {},
   "source": [
    "Analyser le jeu de données dans son ensemble (colonnes, lignes, types de données, valeurs manquantes) :"
   ]
  },
  {
   "cell_type": "code",
   "execution_count": null,
   "metadata": {},
   "outputs": [],
   "source": [
    "df.info()"
   ]
  },
  {
   "attachments": {},
   "cell_type": "markdown",
   "metadata": {},
   "source": [
    "**Remarque** : un certain nombre de colonnes contiennent des valeurs nulles / manquantes ! En fonction des objectifs, certaines ne nous sont pas nécessairement utiles (`adresse_numero`), d'autres sont primordiales (`valeur_fonciere`, `surface_reelle_bati`, `nombre_pieces_principales`). Gardons cela en tête pour la suite, il est très probable que nous aillons à effectuer un nettoyage de données."
   ]
  },
  {
   "attachments": {},
   "cell_type": "markdown",
   "metadata": {},
   "source": [
    "Afficher les statistiques des variables quantitatives :"
   ]
  },
  {
   "cell_type": "code",
   "execution_count": null,
   "metadata": {},
   "outputs": [],
   "source": [
    "df.describe()"
   ]
  },
  {
   "attachments": {},
   "cell_type": "markdown",
   "metadata": {},
   "source": [
    "Sélectionner uniquement les colonnes d'intérêt :"
   ]
  },
  {
   "cell_type": "code",
   "execution_count": null,
   "metadata": {},
   "outputs": [],
   "source": [
    "raw_dataset = df.loc[:, [\"date_mutation\", \"nature_mutation\", \"valeur_fonciere\", \"nom_commune\", \"type_local\", \"surface_reelle_bati\", \"nombre_pieces_principales\", \"latitude\", \"longitude\"]]\n",
    "raw_dataset"
   ]
  },
  {
   "attachments": {},
   "cell_type": "markdown",
   "metadata": {},
   "source": [
    "Filtrer uniquement les ventes d'appartements :"
   ]
  },
  {
   "cell_type": "code",
   "execution_count": null,
   "metadata": {},
   "outputs": [],
   "source": [
    "filtered_dataset = raw_dataset[(raw_dataset[\"nature_mutation\"] == \"Vente\") & ((raw_dataset[\"type_local\"] == \"Appartement\"))]\n",
    "filtered_dataset"
   ]
  },
  {
   "cell_type": "code",
   "execution_count": null,
   "metadata": {},
   "outputs": [],
   "source": [
    "filtered_dataset.info()"
   ]
  },
  {
   "attachments": {},
   "cell_type": "markdown",
   "metadata": {},
   "source": [
    "Certaines ventes ont des informations manquantes : valeur foncière, surface réelle, nombre de pièces principales, latitude, longitude.\n",
    "\n",
    "Observons ces données incomplètes. Ignorons pour le moment la latitude et longitude car cela représente un échantillon conséquent :"
   ]
  },
  {
   "cell_type": "code",
   "execution_count": null,
   "metadata": {},
   "outputs": [],
   "source": [
    "filtered_dataset[filtered_dataset[[\"valeur_fonciere\", \"surface_reelle_bati\", \"nombre_pieces_principales\"]].isna().any(axis=1)]"
   ]
  },
  {
   "attachments": {},
   "cell_type": "markdown",
   "metadata": {},
   "source": [
    "À ce stade il nous est impossible de trouver des valeurs de remplacement approximées (note : nous pourrions utiliser des méthodes de regroupement statistique) donc allons supprimer les lignes ayant des valeurs manquantes pour les caractéristiques valeur foncière, surface réelle et nombre de pièces principales :"
   ]
  },
  {
   "cell_type": "code",
   "execution_count": null,
   "metadata": {},
   "outputs": [],
   "source": [
    "clean_dataset = filtered_dataset[filtered_dataset[[\"valeur_fonciere\", \"surface_reelle_bati\", \"nombre_pieces_principales\"]].notna().all(axis=1)]\n",
    "clean_dataset.info()"
   ]
  },
  {
   "attachments": {},
   "cell_type": "markdown",
   "metadata": {},
   "source": [
    "Terminons avec les latitude et longitude manquantes. Nous pouvons approximer ces données manquantes de plusieurs manières :\n",
    "\n",
    "- Effectuer un rapprochement avec d'autres caractéristiques mises de côté initialement (nom de rue, code postal, etc.)\n",
    "- Appliquer une constante, par exemple les coordonnées du centre de la ville de Grenoble\n",
    "- Appliquer les valeurs moyennes ou médianes de notre jeu de données\n",
    "\n",
    "Nous allons utiliser la valeur médiane pour ces valeurs manquante, car c'est un mesure statistique dite \"robuste\", et cela permettra de ne pas changer la distribution statistique du jeu de données :"
   ]
  },
  {
   "cell_type": "code",
   "execution_count": null,
   "metadata": {},
   "outputs": [],
   "source": [
    "lat_lng_median = clean_dataset[[\"latitude\", \"longitude\"]].median()\n",
    "lat_lng_median"
   ]
  },
  {
   "cell_type": "code",
   "execution_count": null,
   "metadata": {},
   "outputs": [],
   "source": [
    "clean_dataset.loc[:, [\"latitude\", \"longitude\"]] = clean_dataset[[\"latitude\", \"longitude\"]].fillna(lat_lng_median)\n",
    "clean_dataset.info()"
   ]
  },
  {
   "attachments": {},
   "cell_type": "markdown",
   "metadata": {},
   "source": [
    "Maintenant que nous avons rapidement pré-traité nos données, explorons la distribution et la correlation statistique entre certaines caractéristiques :"
   ]
  },
  {
   "cell_type": "code",
   "execution_count": null,
   "metadata": {},
   "outputs": [],
   "source": [
    "_ = scatter_matrix(clean_dataset[[\"valeur_fonciere\", \"surface_reelle_bati\", \"nombre_pieces_principales\"]], figsize=(12, 8))"
   ]
  },
  {
   "attachments": {},
   "cell_type": "markdown",
   "metadata": {},
   "source": [
    "**Questions** :\n",
    "\n",
    "- Que pouvons-nous observer ?\n",
    "- Que pourrions effectuer comme analyses et traitements supplémentaires ?"
   ]
  }
 ],
 "metadata": {
  "kernelspec": {
   "display_name": "Python 3 (ipykernel)",
   "language": "python",
   "name": "python3"
  },
  "language_info": {
   "codemirror_mode": {
    "name": "ipython",
    "version": 3
   },
   "file_extension": ".py",
   "mimetype": "text/x-python",
   "name": "python",
   "nbconvert_exporter": "python",
   "pygments_lexer": "ipython3",
   "version": "3.10.11"
  }
 },
 "nbformat": 4,
 "nbformat_minor": 4
}
